{
  "nbformat": 4,
  "nbformat_minor": 0,
  "metadata": {
    "colab": {
      "name": "glassdoor_model.ipynb",
      "version": "0.3.2",
      "provenance": [],
      "collapsed_sections": []
    },
    "kernelspec": {
      "name": "python3",
      "display_name": "Python 3"
    },
    "accelerator": "GPU"
  },
  "cells": [
    {
      "metadata": {
        "id": "6gQ12BcDRJ4m",
        "colab_type": "code",
        "outputId": "bd3dd53d-40d3-4158-cb0e-f57bf068f298",
        "colab": {
          "resources": {
            "http://localhost:8080/nbextensions/google.colab/files.js": {
              "data": "Ly8gQ29weXJpZ2h0IDIwMTcgR29vZ2xlIExMQwovLwovLyBMaWNlbnNlZCB1bmRlciB0aGUgQXBhY2hlIExpY2Vuc2UsIFZlcnNpb24gMi4wICh0aGUgIkxpY2Vuc2UiKTsKLy8geW91IG1heSBub3QgdXNlIHRoaXMgZmlsZSBleGNlcHQgaW4gY29tcGxpYW5jZSB3aXRoIHRoZSBMaWNlbnNlLgovLyBZb3UgbWF5IG9idGFpbiBhIGNvcHkgb2YgdGhlIExpY2Vuc2UgYXQKLy8KLy8gICAgICBodHRwOi8vd3d3LmFwYWNoZS5vcmcvbGljZW5zZXMvTElDRU5TRS0yLjAKLy8KLy8gVW5sZXNzIHJlcXVpcmVkIGJ5IGFwcGxpY2FibGUgbGF3IG9yIGFncmVlZCB0byBpbiB3cml0aW5nLCBzb2Z0d2FyZQovLyBkaXN0cmlidXRlZCB1bmRlciB0aGUgTGljZW5zZSBpcyBkaXN0cmlidXRlZCBvbiBhbiAiQVMgSVMiIEJBU0lTLAovLyBXSVRIT1VUIFdBUlJBTlRJRVMgT1IgQ09ORElUSU9OUyBPRiBBTlkgS0lORCwgZWl0aGVyIGV4cHJlc3Mgb3IgaW1wbGllZC4KLy8gU2VlIHRoZSBMaWNlbnNlIGZvciB0aGUgc3BlY2lmaWMgbGFuZ3VhZ2UgZ292ZXJuaW5nIHBlcm1pc3Npb25zIGFuZAovLyBsaW1pdGF0aW9ucyB1bmRlciB0aGUgTGljZW5zZS4KCi8qKgogKiBAZmlsZW92ZXJ2aWV3IEhlbHBlcnMgZm9yIGdvb2dsZS5jb2xhYiBQeXRob24gbW9kdWxlLgogKi8KKGZ1bmN0aW9uKHNjb3BlKSB7CmZ1bmN0aW9uIHNwYW4odGV4dCwgc3R5bGVBdHRyaWJ1dGVzID0ge30pIHsKICBjb25zdCBlbGVtZW50ID0gZG9jdW1lbnQuY3JlYXRlRWxlbWVudCgnc3BhbicpOwogIGVsZW1lbnQudGV4dENvbnRlbnQgPSB0ZXh0OwogIGZvciAoY29uc3Qga2V5IG9mIE9iamVjdC5rZXlzKHN0eWxlQXR0cmlidXRlcykpIHsKICAgIGVsZW1lbnQuc3R5bGVba2V5XSA9IHN0eWxlQXR0cmlidXRlc1trZXldOwogIH0KICByZXR1cm4gZWxlbWVudDsKfQoKLy8gTWF4IG51bWJlciBvZiBieXRlcyB3aGljaCB3aWxsIGJlIHVwbG9hZGVkIGF0IGEgdGltZS4KY29uc3QgTUFYX1BBWUxPQURfU0laRSA9IDEwMCAqIDEwMjQ7Ci8vIE1heCBhbW91bnQgb2YgdGltZSB0byBibG9jayB3YWl0aW5nIGZvciB0aGUgdXNlci4KY29uc3QgRklMRV9DSEFOR0VfVElNRU9VVF9NUyA9IDMwICogMTAwMDsKCmZ1bmN0aW9uIF91cGxvYWRGaWxlcyhpbnB1dElkLCBvdXRwdXRJZCkgewogIGNvbnN0IHN0ZXBzID0gdXBsb2FkRmlsZXNTdGVwKGlucHV0SWQsIG91dHB1dElkKTsKICBjb25zdCBvdXRwdXRFbGVtZW50ID0gZG9jdW1lbnQuZ2V0RWxlbWVudEJ5SWQob3V0cHV0SWQpOwogIC8vIENhY2hlIHN0ZXBzIG9uIHRoZSBvdXRwdXRFbGVtZW50IHRvIG1ha2UgaXQgYXZhaWxhYmxlIGZvciB0aGUgbmV4dCBjYWxsCiAgLy8gdG8gdXBsb2FkRmlsZXNDb250aW51ZSBmcm9tIFB5dGhvbi4KICBvdXRwdXRFbGVtZW50LnN0ZXBzID0gc3RlcHM7CgogIHJldHVybiBfdXBsb2FkRmlsZXNDb250aW51ZShvdXRwdXRJZCk7Cn0KCi8vIFRoaXMgaXMgcm91Z2hseSBhbiBhc3luYyBnZW5lcmF0b3IgKG5vdCBzdXBwb3J0ZWQgaW4gdGhlIGJyb3dzZXIgeWV0KSwKLy8gd2hlcmUgdGhlcmUgYXJlIG11bHRpcGxlIGFzeW5jaHJvbm91cyBzdGVwcyBhbmQgdGhlIFB5dGhvbiBzaWRlIGlzIGdvaW5nCi8vIHRvIHBvbGwgZm9yIGNvbXBsZXRpb24gb2YgZWFjaCBzdGVwLgovLyBUaGlzIHVzZXMgYSBQcm9taXNlIHRvIGJsb2NrIHRoZSBweXRob24gc2lkZSBvbiBjb21wbGV0aW9uIG9mIGVhY2ggc3RlcCwKLy8gdGhlbiBwYXNzZXMgdGhlIHJlc3VsdCBvZiB0aGUgcHJldmlvdXMgc3RlcCBhcyB0aGUgaW5wdXQgdG8gdGhlIG5leHQgc3RlcC4KZnVuY3Rpb24gX3VwbG9hZEZpbGVzQ29udGludWUob3V0cHV0SWQpIHsKICBjb25zdCBvdXRwdXRFbGVtZW50ID0gZG9jdW1lbnQuZ2V0RWxlbWVudEJ5SWQob3V0cHV0SWQpOwogIGNvbnN0IHN0ZXBzID0gb3V0cHV0RWxlbWVudC5zdGVwczsKCiAgY29uc3QgbmV4dCA9IHN0ZXBzLm5leHQob3V0cHV0RWxlbWVudC5sYXN0UHJvbWlzZVZhbHVlKTsKICByZXR1cm4gUHJvbWlzZS5yZXNvbHZlKG5leHQudmFsdWUucHJvbWlzZSkudGhlbigodmFsdWUpID0+IHsKICAgIC8vIENhY2hlIHRoZSBsYXN0IHByb21pc2UgdmFsdWUgdG8gbWFrZSBpdCBhdmFpbGFibGUgdG8gdGhlIG5leHQKICAgIC8vIHN0ZXAgb2YgdGhlIGdlbmVyYXRvci4KICAgIG91dHB1dEVsZW1lbnQubGFzdFByb21pc2VWYWx1ZSA9IHZhbHVlOwogICAgcmV0dXJuIG5leHQudmFsdWUucmVzcG9uc2U7CiAgfSk7Cn0KCi8qKgogKiBHZW5lcmF0b3IgZnVuY3Rpb24gd2hpY2ggaXMgY2FsbGVkIGJldHdlZW4gZWFjaCBhc3luYyBzdGVwIG9mIHRoZSB1cGxvYWQKICogcHJvY2Vzcy4KICogQHBhcmFtIHtzdHJpbmd9IGlucHV0SWQgRWxlbWVudCBJRCBvZiB0aGUgaW5wdXQgZmlsZSBwaWNrZXIgZWxlbWVudC4KICogQHBhcmFtIHtzdHJpbmd9IG91dHB1dElkIEVsZW1lbnQgSUQgb2YgdGhlIG91dHB1dCBkaXNwbGF5LgogKiBAcmV0dXJuIHshSXRlcmFibGU8IU9iamVjdD59IEl0ZXJhYmxlIG9mIG5leHQgc3RlcHMuCiAqLwpmdW5jdGlvbiogdXBsb2FkRmlsZXNTdGVwKGlucHV0SWQsIG91dHB1dElkKSB7CiAgY29uc3QgaW5wdXRFbGVtZW50ID0gZG9jdW1lbnQuZ2V0RWxlbWVudEJ5SWQoaW5wdXRJZCk7CiAgaW5wdXRFbGVtZW50LmRpc2FibGVkID0gZmFsc2U7CgogIGNvbnN0IG91dHB1dEVsZW1lbnQgPSBkb2N1bWVudC5nZXRFbGVtZW50QnlJZChvdXRwdXRJZCk7CiAgb3V0cHV0RWxlbWVudC5pbm5lckhUTUwgPSAnJzsKCiAgY29uc3QgcGlja2VkUHJvbWlzZSA9IG5ldyBQcm9taXNlKChyZXNvbHZlKSA9PiB7CiAgICBpbnB1dEVsZW1lbnQuYWRkRXZlbnRMaXN0ZW5lcignY2hhbmdlJywgKGUpID0+IHsKICAgICAgcmVzb2x2ZShlLnRhcmdldC5maWxlcyk7CiAgICB9KTsKICB9KTsKCiAgY29uc3QgY2FuY2VsID0gZG9jdW1lbnQuY3JlYXRlRWxlbWVudCgnYnV0dG9uJyk7CiAgaW5wdXRFbGVtZW50LnBhcmVudEVsZW1lbnQuYXBwZW5kQ2hpbGQoY2FuY2VsKTsKICBjYW5jZWwudGV4dENvbnRlbnQgPSAnQ2FuY2VsIHVwbG9hZCc7CiAgY29uc3QgY2FuY2VsUHJvbWlzZSA9IG5ldyBQcm9taXNlKChyZXNvbHZlKSA9PiB7CiAgICBjYW5jZWwub25jbGljayA9ICgpID0+IHsKICAgICAgcmVzb2x2ZShudWxsKTsKICAgIH07CiAgfSk7CgogIC8vIENhbmNlbCB1cGxvYWQgaWYgdXNlciBoYXNuJ3QgcGlja2VkIGFueXRoaW5nIGluIHRpbWVvdXQuCiAgY29uc3QgdGltZW91dFByb21pc2UgPSBuZXcgUHJvbWlzZSgocmVzb2x2ZSkgPT4gewogICAgc2V0VGltZW91dCgoKSA9PiB7CiAgICAgIHJlc29sdmUobnVsbCk7CiAgICB9LCBGSUxFX0NIQU5HRV9USU1FT1VUX01TKTsKICB9KTsKCiAgLy8gV2FpdCBmb3IgdGhlIHVzZXIgdG8gcGljayB0aGUgZmlsZXMuCiAgY29uc3QgZmlsZXMgPSB5aWVsZCB7CiAgICBwcm9taXNlOiBQcm9taXNlLnJhY2UoW3BpY2tlZFByb21pc2UsIHRpbWVvdXRQcm9taXNlLCBjYW5jZWxQcm9taXNlXSksCiAgICByZXNwb25zZTogewogICAgICBhY3Rpb246ICdzdGFydGluZycsCiAgICB9CiAgfTsKCiAgaWYgKCFmaWxlcykgewogICAgcmV0dXJuIHsKICAgICAgcmVzcG9uc2U6IHsKICAgICAgICBhY3Rpb246ICdjb21wbGV0ZScsCiAgICAgIH0KICAgIH07CiAgfQoKICBjYW5jZWwucmVtb3ZlKCk7CgogIC8vIERpc2FibGUgdGhlIGlucHV0IGVsZW1lbnQgc2luY2UgZnVydGhlciBwaWNrcyBhcmUgbm90IGFsbG93ZWQuCiAgaW5wdXRFbGVtZW50LmRpc2FibGVkID0gdHJ1ZTsKCiAgZm9yIChjb25zdCBmaWxlIG9mIGZpbGVzKSB7CiAgICBjb25zdCBsaSA9IGRvY3VtZW50LmNyZWF0ZUVsZW1lbnQoJ2xpJyk7CiAgICBsaS5hcHBlbmQoc3BhbihmaWxlLm5hbWUsIHtmb250V2VpZ2h0OiAnYm9sZCd9KSk7CiAgICBsaS5hcHBlbmQoc3BhbigKICAgICAgICBgKCR7ZmlsZS50eXBlIHx8ICduL2EnfSkgLSAke2ZpbGUuc2l6ZX0gYnl0ZXMsIGAgKwogICAgICAgIGBsYXN0IG1vZGlmaWVkOiAkewogICAgICAgICAgICBmaWxlLmxhc3RNb2RpZmllZERhdGUgPyBmaWxlLmxhc3RNb2RpZmllZERhdGUudG9Mb2NhbGVEYXRlU3RyaW5nKCkgOgogICAgICAgICAgICAgICAgICAgICAgICAgICAgICAgICAgICAnbi9hJ30gLSBgKSk7CiAgICBjb25zdCBwZXJjZW50ID0gc3BhbignMCUgZG9uZScpOwogICAgbGkuYXBwZW5kQ2hpbGQocGVyY2VudCk7CgogICAgb3V0cHV0RWxlbWVudC5hcHBlbmRDaGlsZChsaSk7CgogICAgY29uc3QgZmlsZURhdGFQcm9taXNlID0gbmV3IFByb21pc2UoKHJlc29sdmUpID0+IHsKICAgICAgY29uc3QgcmVhZGVyID0gbmV3IEZpbGVSZWFkZXIoKTsKICAgICAgcmVhZGVyLm9ubG9hZCA9IChlKSA9PiB7CiAgICAgICAgcmVzb2x2ZShlLnRhcmdldC5yZXN1bHQpOwogICAgICB9OwogICAgICByZWFkZXIucmVhZEFzQXJyYXlCdWZmZXIoZmlsZSk7CiAgICB9KTsKICAgIC8vIFdhaXQgZm9yIHRoZSBkYXRhIHRvIGJlIHJlYWR5LgogICAgbGV0IGZpbGVEYXRhID0geWllbGQgewogICAgICBwcm9taXNlOiBmaWxlRGF0YVByb21pc2UsCiAgICAgIHJlc3BvbnNlOiB7CiAgICAgICAgYWN0aW9uOiAnY29udGludWUnLAogICAgICB9CiAgICB9OwoKICAgIC8vIFVzZSBhIGNodW5rZWQgc2VuZGluZyB0byBhdm9pZCBtZXNzYWdlIHNpemUgbGltaXRzLiBTZWUgYi82MjExNTY2MC4KICAgIGxldCBwb3NpdGlvbiA9IDA7CiAgICB3aGlsZSAocG9zaXRpb24gPCBmaWxlRGF0YS5ieXRlTGVuZ3RoKSB7CiAgICAgIGNvbnN0IGxlbmd0aCA9IE1hdGgubWluKGZpbGVEYXRhLmJ5dGVMZW5ndGggLSBwb3NpdGlvbiwgTUFYX1BBWUxPQURfU0laRSk7CiAgICAgIGNvbnN0IGNodW5rID0gbmV3IFVpbnQ4QXJyYXkoZmlsZURhdGEsIHBvc2l0aW9uLCBsZW5ndGgpOwogICAgICBwb3NpdGlvbiArPSBsZW5ndGg7CgogICAgICBjb25zdCBiYXNlNjQgPSBidG9hKFN0cmluZy5mcm9tQ2hhckNvZGUuYXBwbHkobnVsbCwgY2h1bmspKTsKICAgICAgeWllbGQgewogICAgICAgIHJlc3BvbnNlOiB7CiAgICAgICAgICBhY3Rpb246ICdhcHBlbmQnLAogICAgICAgICAgZmlsZTogZmlsZS5uYW1lLAogICAgICAgICAgZGF0YTogYmFzZTY0LAogICAgICAgIH0sCiAgICAgIH07CiAgICAgIHBlcmNlbnQudGV4dENvbnRlbnQgPQogICAgICAgICAgYCR7TWF0aC5yb3VuZCgocG9zaXRpb24gLyBmaWxlRGF0YS5ieXRlTGVuZ3RoKSAqIDEwMCl9JSBkb25lYDsKICAgIH0KICB9CgogIC8vIEFsbCBkb25lLgogIHlpZWxkIHsKICAgIHJlc3BvbnNlOiB7CiAgICAgIGFjdGlvbjogJ2NvbXBsZXRlJywKICAgIH0KICB9Owp9CgpzY29wZS5nb29nbGUgPSBzY29wZS5nb29nbGUgfHwge307CnNjb3BlLmdvb2dsZS5jb2xhYiA9IHNjb3BlLmdvb2dsZS5jb2xhYiB8fCB7fTsKc2NvcGUuZ29vZ2xlLmNvbGFiLl9maWxlcyA9IHsKICBfdXBsb2FkRmlsZXMsCiAgX3VwbG9hZEZpbGVzQ29udGludWUsCn07Cn0pKHNlbGYpOwo=",
              "ok": true,
              "headers": [
                [
                  "content-type",
                  "application/javascript"
                ]
              ],
              "status": 200,
              "status_text": "OK"
            }
          },
          "base_uri": "https://localhost:8080/",
          "height": 84
        }
      },
      "cell_type": "code",
      "source": [
        "from google.colab import files\n",
        "files.upload()"
      ],
      "execution_count": 0,
      "outputs": [
        {
          "output_type": "display_data",
          "data": {
            "text/html": [
              "\n",
              "     <input type=\"file\" id=\"files-430b7b28-44f4-46ed-bb4b-e320fa725bb7\" name=\"files[]\" multiple disabled />\n",
              "     <output id=\"result-430b7b28-44f4-46ed-bb4b-e320fa725bb7\">\n",
              "      Upload widget is only available when the cell has been executed in the\n",
              "      current browser session. Please rerun this cell to enable.\n",
              "      </output>\n",
              "      <script src=\"/nbextensions/google.colab/files.js\"></script> "
            ],
            "text/plain": [
              "<IPython.core.display.HTML object>"
            ]
          },
          "metadata": {
            "tags": []
          }
        },
        {
          "output_type": "stream",
          "text": [
            "Saving employee_reviews.csv to employee_reviews (1).csv\n"
          ],
          "name": "stdout"
        }
      ]
    },
    {
      "metadata": {
        "id": "NtN09jJxmjU2",
        "colab_type": "code",
        "colab": {}
      },
      "cell_type": "code",
      "source": [
        "import matplotlib.pyplot as plt\n",
        "import pandas as pd\n",
        "import numpy as np\n",
        "from keras import regularizers\n",
        "import tensorflow as tf\n",
        "from sklearn.model_selection import train_test_split\n",
        "from collections import Counter\n",
        "import numpy as np\n",
        "import nltk\n",
        "from nltk.corpus import stopwords\n",
        "import keras\n",
        "from sklearn.metrics import roc_curve\n",
        "from sklearn.metrics import auc as aaa\n",
        "import matplotlib.pyplot as plt\n",
        "import pickle\n",
        "\n",
        "\n",
        "\n",
        "\n",
        "\n",
        "def bake_pies(data):  \n",
        "  \n",
        "  cmap = plt.cm.GnBu\n",
        "\n",
        "  current_size = data[data[\"status\"] == \"Current Employee\"].count()\n",
        "  former_size = data[data[\"status\"] == \"Former Employee\"].count()\n",
        "  ratio = current_size/ former_size\n",
        "\n",
        "  for i in range(8,14):\n",
        "    col = data.columns.tolist()[i]\n",
        "    labels=data[col][data[\"status\"] == \"Former Employee\"].value_counts().sort_index()\n",
        "    current_data = data[col][data[\"status\"] == \"Current Employee\"].value_counts().sort_index()\n",
        "    former_data = data[col][data[\"status\"] == \"Former Employee\"].value_counts().sort_index()\n",
        "    colors = cmap(np.linspace(0., 1., len(labels)))\n",
        "    \n",
        "    \n",
        "    plt.subplot(1, 2, 2)\n",
        "    plt.pie(current_data, labels=labels.index, radius = ratio[0], startangle=90, colors = colors)\n",
        "    \n",
        "    plt.subplot(1, 2, 1)\n",
        "    plt.pie(former_data, labels=labels.index, radius = 1, startangle=90, colors = colors)\n",
        "    plt.title(col+\"\\n former vs current employees\")\n",
        "    \n",
        "    plt.subplots_adjust(wspace=0.5)\n",
        "\n",
        "   \n",
        "    plt.show()"
      ],
      "execution_count": 0,
      "outputs": []
    },
    {
      "metadata": {
        "id": "unmV5z-Z_k6I",
        "colab_type": "code",
        "colab": {}
      },
      "cell_type": "code",
      "source": [
        "def remove_bias(data, feature, class1, class2):\n",
        "  current_count = len(data[data[feature] == class1])\n",
        "  former_count = len(data[data[feature] == class2])\n",
        "  print(class1, current_count, class2, former_count)\n",
        "\n",
        "  df_current = data[data[feature] == class1].sample(min(former_count, current_count))\n",
        "  df_former = data[data[feature] == class2].sample(min(former_count, current_count))\n",
        "\n",
        "  data = df_current.append(df_former)\n",
        "  data = data.sample(frac=1)\n",
        "\n",
        "  current_count = len(data[data[feature] == class1])\n",
        "  former_count = len(data[data[feature] == class2])\n",
        "  print(class1, current_count, class2, former_count)\n",
        "  return data"
      ],
      "execution_count": 0,
      "outputs": []
    },
    {
      "metadata": {
        "id": "JevRUEvKfsbX",
        "colab_type": "code",
        "colab": {}
      },
      "cell_type": "code",
      "source": [
        "def build_model(vocab_size, EMBEDDING_DIM):\n",
        "\n",
        "  # Number of output nodes. This is binary classification, so 1 node.\n",
        "  OUTPUT = 2\n",
        "\n",
        "  model = keras.Sequential()\n",
        "\n",
        "  model.add(keras.layers.Embedding(vocab_size, EMBEDDING_DIM))\n",
        "\n",
        "  model.add(keras.layers.GlobalAveragePooling1D())\n",
        "\n",
        "  model.add(keras.layers.Dense(16, activation=tf.nn.relu,\n",
        "           kernel_regularizer=regularizers.l2(0.0001)))\n",
        "  \n",
        "  model.add(keras.layers.Dense(16, activation=tf.nn.relu))\n",
        "\n",
        "\n",
        "  # model.add(keras.layers.Dense(NUM_NODES, activation=tf.nn.relu))\n",
        "\n",
        "  model.add(keras.layers.Dense(OUTPUT*2, activation=tf.nn.sigmoid))\n",
        "  model.add(keras.layers.Dense(OUTPUT, activation=tf.nn.sigmoid))\n",
        "\n",
        "  model.summary()\n",
        "\n",
        "  # Loss function and optimizer\n",
        "  \n",
        "  model.compile(optimizer=tf.train.AdamOptimizer(),\n",
        "                loss='binary_crossentropy',\n",
        "                metrics=['categorical_accuracy'])\n",
        "  return model\n"
      ],
      "execution_count": 0,
      "outputs": []
    },
    {
      "metadata": {
        "id": "SJnm9PZBGTLH",
        "colab_type": "text"
      },
      "cell_type": "markdown",
      "source": [
        "## ACTUAL STUFF!"
      ]
    },
    {
      "metadata": {
        "id": "6p-oYPkli3x1",
        "colab_type": "code",
        "colab": {}
      },
      "cell_type": "code",
      "source": [
        "percent_occurred = 0.01\n",
        "score_threshold = 3\n",
        "len_threshold = 4\n",
        "max_len = 50\n",
        "min_word_length = 3\n",
        "\n",
        "EMBEDDING_DIM = 8\n",
        "remove_in_group_bias = False\n",
        "use_nltk = False\n",
        "combine = False"
      ],
      "execution_count": 0,
      "outputs": []
    },
    {
      "metadata": {
        "id": "-ZCdGCKrg6Mp",
        "colab_type": "code",
        "colab": {}
      },
      "cell_type": "code",
      "source": [
        "param_set ={}\n",
        "param_set[\"use_nltk\"] =[True, False]\n",
        "param_set[\"remove_in_group_bias\"] = [True, False]\n",
        "param_set[\"combine\"] = [True, False]\n",
        "param_set[\"EMBEDDING_DIM\"] = [4]\n",
        "param_set[\"max_length\"] = [50, 1000]"
      ],
      "execution_count": 0,
      "outputs": []
    },
    {
      "metadata": {
        "id": "wMgZtPYCFlJ5",
        "colab_type": "code",
        "colab": {}
      },
      "cell_type": "code",
      "source": [
        "# param_set ={}\n",
        "# param_set[\"use_nltk\"] =[False]\n",
        "# param_set[\"remove_in_group_bias\"] = [ False]\n",
        "# param_set[\"combine\"] = [False]\n",
        "# param_set[\"EMBEDDING_DIM\"] = [4]\n",
        "# param_set[\"max_length\"] = [50]"
      ],
      "execution_count": 0,
      "outputs": []
    },
    {
      "metadata": {
        "id": "gP8WoL4HhsDI",
        "colab_type": "text"
      },
      "cell_type": "markdown",
      "source": [
        "We first read the raw csv data and remove the features that aren't useful for the decision making process, namely the **index** and the **links to the reviews**."
      ]
    },
    {
      "metadata": {
        "id": "SeQw_rN7RXWO",
        "colab_type": "code",
        "colab": {}
      },
      "cell_type": "code",
      "source": [
        "raw_data = pd.read_csv(\"employee_reviews.csv\")\n",
        "raw_data = raw_data.drop(raw_data.columns[0], axis = 1) # removing index\n",
        "raw_data = raw_data.drop(raw_data.columns[-1], axis = 1) # removing links\n",
        "\n",
        "def do_the_thing(raw_data, param_set):\n",
        "  con = 1\n",
        "#   histories = []\n",
        "#   configs = []\n",
        "#   models =[]\n",
        "#   X_tests = []\n",
        "#   y_tests = []\n",
        "#   word_indices = []\n",
        "  \n",
        "  for combine in param_set[\"combine\"]:\n",
        "    for remove_in_group_bias in param_set[\"remove_in_group_bias\"]:\n",
        "      for use_nltk in param_set[\"use_nltk\"]:\n",
        "        for EMBEDDING_DIM in param_set[\"EMBEDDING_DIM\"]:\n",
        "          for max_len in param_set[\"max_length\"]:\n",
        "            \n",
        "            data = raw_data.copy()\n",
        "            \n",
        "#             use_nltk = False\n",
        "#             EMBEDDING_DIM=4\n",
        "#             remove_in_group_bias = False\n",
        "#             max_length = 50\n",
        "\n",
        "            # convert numerical data\n",
        "            for i in range(8,14):\n",
        "              data[data.columns.tolist()[i]] = pd.to_numeric(data[data.columns.tolist()[i]], errors='ignore')\n",
        "\n",
        "            # split job title and status\n",
        "            status_split = data[\"job-title\"].str.split(\" - \").tolist()\n",
        "            data['status'] = [x[0] for x in status_split]\n",
        "            data['job-title'] = [x[1] for x in status_split]\n",
        "\n",
        "            # resize class distribution for current /former employees\n",
        "            if remove_in_group_bias:\n",
        "              data = remove_bias(data, \"status\", \"Current Employee\", \"Former Employee\")\n",
        "\n",
        "            # convert numerical data (NaN)\n",
        "            for i in range(8,14):\n",
        "              data[data.columns.tolist()[i]] = pd.to_numeric(data[data.columns.tolist()[i]], errors='coerce')\n",
        "\n",
        "            # text data\n",
        "            cols_text = ['company', 'summary', 'pros', 'cons', 'advice-to-mgmt']\n",
        "            data_text = data[cols_text].copy()\n",
        "            data_text['score'] = data['overall-ratings']\n",
        "\n",
        "            # clean strings\n",
        "            for key in cols_text:\n",
        "              data_text[key] = data_text[key].str.lower()\n",
        "              data_text[key] = data_text[key].fillna(\" \")\n",
        "              data_text[key] = data_text[key].str.replace('[^a-zA-Z\\ ]+', ' ')\n",
        "\n",
        "            # sentences\n",
        "            all_sentences = []\n",
        "            for key in cols_text[1:]:\n",
        "              all_sentences = all_sentences + data_text[key].tolist()\n",
        "\n",
        "            all_sentences_list = list(all_sentences)\n",
        "            all_sentences = set(all_sentences_list)\n",
        "\n",
        "            # words\n",
        "            all_words = [word.lower() for sentence in all_sentences_list for word in sentence.split()]\n",
        "\n",
        "            # remove words which are less than a certain length\n",
        "            word_vocab = set(all_words)\n",
        "            freq = [word for word in all_words if len(word) >= min_word_length] \n",
        "            counts = Counter(freq).most_common()\n",
        "            word_freq = pd.DataFrame(counts, columns =['word', 'freq'])\n",
        "\n",
        "            # remove words that appear less than a certain amont of times in the dataset\n",
        "            threshold= len(raw_data)*(percent_occurred/100) # 0.05% times\n",
        "            word_freq = word_freq[word_freq['freq'] > threshold]\n",
        "\n",
        "            # remove stop words\n",
        "            word_set_thresh = set(word_freq[\"word\"])\n",
        "            word_set_thresh.remove(\"microsoft\")\n",
        "            word_set_thresh.remove(\"google\")\n",
        "            word_set_thresh.remove(\"netflix\")\n",
        "            word_set_thresh.remove(\"facebook\")\n",
        "            word_set_thresh.remove(\"amazon\")\n",
        "            word_set_thresh.remove(\"apple\")\n",
        "\n",
        "            if use_nltk:\n",
        "              nltk.download('stopwords')\n",
        "              hola = set(stopwords.words('english'))\n",
        "              word_set_thresh.difference_update(hola)\n",
        "            else:\n",
        "              word_set_thresh.difference_update({'the', 'and', 'are', 'that', 'for'})\n",
        "\n",
        "            # tokenize the words colllection  \n",
        "            for key in cols_text[1:]:\n",
        "              data_text[key] = data_text[key].apply(lambda x: [word for word in x.split() if word in word_set_thresh])\n",
        "\n",
        "            tokenize = keras.preprocessing.text.Tokenizer()\n",
        "            vocab = data_text[\"cons\"].tolist() + data_text[\"advice-to-mgmt\"].tolist() + data_text[\"summary\"].tolist() + data_text[\"pros\"].tolist()\n",
        "            tokenize.fit_on_texts(vocab)\n",
        "            sentences = tokenize.texts_to_sequences(vocab)\n",
        "            my_word_index = tokenize.word_index # encoder dict\n",
        "\n",
        "            # convert words to token\n",
        "            coded_inputs = []\n",
        "            for key in cols_text[1:]:\n",
        "              data_text[key] = data_text[key].apply(lambda x: [my_word_index[word] for word in x])\n",
        "              coded_inputs = coded_inputs + data_text[key].tolist()\n",
        "\n",
        "            # extra data by using combination of reviews (pros+cons+summary)\n",
        "            if combine:\n",
        "              z = []\n",
        "              for index, row in data_text.iterrows():\n",
        "                temp = np.concatenate([np.array(row.summary), np.array(row.pros)], axis=0)\n",
        "                temp = np.concatenate([temp, row.cons], axis = 0)\n",
        "              #   temp = np.concatenate([temp, row.advice-to-mgmt], axis = 0)  \n",
        "                z.append(temp)\n",
        "              data_text['combine'] = z\n",
        "\n",
        "\n",
        "            # creating data set of pros, cons, summary (and pros+cons+summar)\n",
        "            stacked_data = pd.DataFrame(columns=['summary', 'score'])\n",
        "            stacked_data = stacked_data.append(data_text[[\"summary\", \"score\"]])\n",
        "            stacked_data = stacked_data.append(data_text[[\"pros\", \"score\"]])\n",
        "            stacked_data = stacked_data.append(data_text[[\"cons\", \"score\"]])\n",
        "            stacked_data = stacked_data.append(data_text[[\"advice-to-mgmt\", \"score\"]])\n",
        "            if combine:\n",
        "              stacked_data = stacked_data.append(data_text[[\"combine\", \"score\"]])\n",
        "            stacked_data = stacked_data.reset_index(drop=True)\n",
        "\n",
        "            # set lables to each text based on certain criteria\n",
        "            data_len = len(data_text)\n",
        "            stacked_data.iloc[:data_len, -2] = np.where(stacked_data.iloc[:data_len, -2] > score_threshold, 1, 0) # for all rows from 0 to datalen, assign score = 1 if rating > 2.5 # summary\n",
        "            stacked_data.iloc[data_len:data_len*2, -2] = 1 # for all rows from datalen to datalen*2, assign score = 1 # pros\n",
        "            stacked_data.iloc[data_len*2:data_len*3, -2] = 0 # for all rows from datalen*2 to datalen*3 assign score = 0 # cons\n",
        "            stacked_data.iloc[data_len*3:data_len*4, -2] = np.where(stacked_data.iloc[data_len*3:data_len*4, -2] > score_threshold, 1, 0) # for adv to mgmt\n",
        "            if combine:\n",
        "              stacked_data.iloc[data_len*4:data_len*5, -2] = np.where(stacked_data.iloc[data_len*4:data_len*5, -2] > score_threshold, 1, 0) # for combine\n",
        "\n",
        "            stacked_data[\"summary\"] = stacked_data[\"summary\"].fillna(stacked_data[\"pros\"])\n",
        "            stacked_data[\"summary\"] = stacked_data[\"summary\"].fillna(stacked_data[\"cons\"])\n",
        "            stacked_data[\"summary\"] = stacked_data[\"summary\"].fillna(stacked_data[\"advice-to-mgmt\"])\n",
        "            if combine:\n",
        "              stacked_data[\"summary\"] = stacked_data[\"summary\"].fillna(stacked_data[\"combine\"])\n",
        "            stacked_data.isnull().sum()\n",
        "            if combine:\n",
        "              stacked_data = stacked_data.drop(columns=[\"pros\", \"cons\", \"advice-to-mgmt\", \"combine\"])\n",
        "            else:\n",
        "              stacked_data = stacked_data.drop(columns=[\"pros\", \"cons\", \"advice-to-mgmt\"])  \n",
        "\n",
        "            # remove sentences less than a certain length based on frequency of lengths \n",
        "            stacked_data = stacked_data[stacked_data[\"summary\"].str.len() > len_threshold]\n",
        "\n",
        "            sentences_freq = stacked_data[\"summary\"].str.len()\n",
        "            sentences_freq.hist(bins = 10)\n",
        "\n",
        "            # pad with 0s upto max_len\n",
        "            padded_data = keras.preprocessing.sequence.pad_sequences(stacked_data[\"summary\"],value=0, padding=\"post\",maxlen=max_len)\n",
        "\n",
        "            def create_dataset(df, data):\n",
        "              df_data = pd.DataFrame(data)\n",
        "              df_data['y'] = df['score'].values   \n",
        "              return df_data\n",
        "\n",
        "            data_set = create_dataset(stacked_data, padded_data)\n",
        "\n",
        "            X_train, X_test, y_train, y_test = train_test_split(data_set.loc[:, data_set.columns != 'y'], data_set['y'], test_size=0.20, random_state=42,  shuffle=False)\n",
        "            # one hot encoded binary targets\n",
        "            y_train = pd.get_dummies(y_train)\n",
        "            y_test = pd.get_dummies(y_test)\n",
        "\n",
        "            # build model\n",
        "            vocab_size = len(word_set_thresh)\n",
        "            model = build_model(vocab_size, EMBEDDING_DIM)\n",
        "            config = [combine, remove_in_group_bias, use_nltk, EMBEDDING_DIM, max_len]\n",
        "            print(\"combine\", config[0], \"remove_in_group_bias\", config[1] , \n",
        "            \"use_nltk\", config[2], \"EMBEDDING_DIM\", config[3], \"max_len\", config[4])\n",
        "            print(config)\n",
        "            history = model.fit(X_train,\n",
        "                y_train,\n",
        "                epochs=15,\n",
        "                batch_size=128,\n",
        "                validation_split=0.25,\n",
        "                verbose=1)\n",
        "\n",
        "            # pickle all realted data\n",
        "            payload = [config, history, model, X_test, y_test, my_word_index]\n",
        "            name = \"config_v\"+str(con)\n",
        "            con = con + 1\n",
        "            pickling_on = open(name,\"wb\")\n",
        "            pickle.dump(payload, pickling_on)\n",
        "            pickling_on.close()\n",
        "            \n",
        "            del payload\n"
      ],
      "execution_count": 0,
      "outputs": []
    },
    {
      "metadata": {
        "id": "SoL2BvRojczn",
        "colab_type": "code",
        "colab": {}
      },
      "cell_type": "code",
      "source": [
        "# configs, histories, models, X_tests, y_tests, my_word_index = do_the_thing(raw_data, param_set)\n",
        "do_the_thing(raw_data, param_set)"
      ],
      "execution_count": 0,
      "outputs": []
    },
    {
      "metadata": {
        "id": "Xabp0ZOdJuP9",
        "colab_type": "code",
        "colab": {}
      },
      "cell_type": "code",
      "source": [
        "from sklearn.metrics import classification_report"
      ],
      "execution_count": 0,
      "outputs": []
    },
    {
      "metadata": {
        "id": "PwO327qFw6OK",
        "colab_type": "code",
        "colab": {}
      },
      "cell_type": "code",
      "source": [
        "# pickle_off = open(\"config_32\",\"rb\")\n",
        "# payload = pickle.load(pickle_off)\n",
        "\n",
        "def auc_roc(model, y_pred, y_test, name):\n",
        "  fpr, tpr, thresholds = roc_curve(np.argmax(y_test.values, axis =1), np.argmax(y_pred, axis = 1))\n",
        "  auc_data = aaa(fpr, tpr)\n",
        "  plt.plot(fpr, tpr, label='AUC={:.2f}'.format(auc_data))\n",
        "  plt.xlabel('False positive rate')\n",
        "  plt.ylabel('True positive rate')\n",
        "  plt.title('ROC curve')\n",
        "  plt.legend(loc='best')\n",
        "  plt.savefig(name+\"roc.jpg\")\n",
        "  plt.show()\n",
        "  \n",
        "# auc_roc\n",
        "def metrics(y_pred, y_test):\n",
        "  print(classification_report(np.argmax(y_test.values, axis =1),\n",
        "                            np.argmax(y_pred, axis = 1),\n",
        "                            target_names=[\"Negative\", \"Positive\"]))\n",
        "\n",
        "def learning_curves(history, name):\n",
        "  acc = history.history['categorical_accuracy']\n",
        "  val_acc = history.history['val_categorical_accuracy']\n",
        "  loss = history.history['loss']\n",
        "  val_loss = history.history['val_loss']\n",
        "  print(\"Accuracy:\", str(round(acc[-1], 2)), \"Validation Accuracy:\",str(round(val_acc[-1], 2)))\n",
        "  acc_values = history.history['categorical_accuracy']\n",
        "  val_acc_values = history.history['val_categorical_accuracy']\n",
        "\n",
        "  loss_values = history.history['loss']\n",
        "  loss_acc_values = history.history['val_loss']\n",
        "\n",
        "  plt.plot( acc, 'b', label='Training acc')\n",
        "  plt.plot(val_acc, 'r', label='Validation acc')\n",
        "\n",
        "  plt.plot( loss, 'b--', label='Training loss')\n",
        "  plt.plot(val_loss, 'r--', label='Validation loss')\n",
        "\n",
        "  plt.title('Training and validation accuracy')\n",
        "  plt.xlabel('Epochs')\n",
        "  plt.ylabel('Accuracy')\n",
        "  plt.legend()\n",
        "  plt.savefig(name+\"curve.jpg\")\n",
        "  plt.show()\n",
        "\n",
        "def view(payload, name):\n",
        "  config = payload[0]\n",
        "  history= payload[1]\n",
        "  model =payload[2]\n",
        "  X_test = payload[3]\n",
        "  y_test = payload[4]\n",
        "  my_word_index = payload[5]\n",
        "  \n",
        "  \n",
        "  y_pred = model.predict(X_test)\n",
        "  print(\"###########################################################################\")\n",
        "  print(\" combine:\", config[0], \"\\n remove_in_group_bias:\", config[1] , \"\\n use_nltk:\", config[2], \"\\n EMBEDDING_DIM:\", config[3], \"\\n max_len:\", config[4])\n",
        "  auc_roc(model, y_pred, y_test, name)\n",
        "  metrics(y_pred, y_test)\n",
        "  learning_curves(history, name)"
      ],
      "execution_count": 0,
      "outputs": []
    },
    {
      "metadata": {
        "id": "U0gArILDNPYB",
        "colab_type": "code",
        "colab": {}
      },
      "cell_type": "code",
      "source": [
        "import fnmatch\n",
        "import os\n",
        "\n",
        "for file in os.listdir('/content/'):\n",
        "    if fnmatch.fnmatch(file, 'config_v*'):\n",
        "        print(file)\n",
        "        pickle_off = open(file,\"rb\")\n",
        "        payload = pickle.load(pickle_off)\n",
        "        view(payload, file)"
      ],
      "execution_count": 0,
      "outputs": []
    },
    {
      "metadata": {
        "id": "pQWTL3gNMKNO",
        "colab_type": "code",
        "colab": {}
      },
      "cell_type": "code",
      "source": [
        "# view(payload)"
      ],
      "execution_count": 0,
      "outputs": []
    },
    {
      "metadata": {
        "id": "KwHVeTVaAZFW",
        "colab_type": "code",
        "outputId": "c3f1089a-f693-4979-efc5-a6745175f898",
        "colab": {
          "base_uri": "https://localhost:8080/",
          "height": 364
        }
      },
      "cell_type": "code",
      "source": [
        "for y_,y, s in zip(model.predict(X_sample), y_sample.values, range(len(y_sample))):\n",
        "  print(y_, np.argmax(y_), np.argmax(y), decode(X_train.iloc[s].values))"
      ],
      "execution_count": 0,
      "outputs": [
        {
          "output_type": "stream",
          "text": [
            "[0.15362889 0.84866023] 1 1 moving speed light burn out inevitable \n",
            "[0.87449324 0.12546366] 0 0 great balance between big company security fun fast moving projects \n",
            "[0.42996043 0.5708599 ] 1 0 best place worked also most demanding \n",
            "[0.9106748  0.08961487] 0 0 unique one kind dream job \n",
            "[0.81201446 0.1875422 ] 0 0 great company with down sides \n",
            "[0.1706591  0.83126956] 1 1 great but great can always better \n",
            "[0.01344371 0.9865833 ] 1 1 not perfect but still best place world work \n",
            "[0.59770274 0.40236256] 0 0 great perks bad work life balance \n",
            "[0.05477118 0.94636154] 1 1 make sure you know what role you applying \n",
            "[0.84842527 0.15126932] 0 1 good company can long hours \n",
            "[0.14677167 0.85508776] 1 1 great benefits but large enough get lost \n",
            "[0.02415434 0.9762231 ] 1 1 good work life balance perks \n",
            "[0.63689065 0.3626784 ] 0 1 amazing place work challenging environment \n",
            "[0.5051973  0.49542665] 0 0 great perks interesting colleagues zero work life balance \n",
            "[0.03299329 0.9676132 ] 1 1 perks work environment still unmatched any other company \n",
            "[0.00902838 0.99083847] 1 1 great people culture solid benefits lots opportunities \n",
            "[0.08849004 0.9131566 ] 1 1 great job with lots benefits \n",
            "[0.61577094 0.38350964] 0 1 great work environment odd team assignment \n",
            "[0.02363902 0.97653997] 1 1 great place work but too many leaders \n",
            "[0.20980614 0.7921506 ] 1 1 good starting point new grads \n"
          ],
          "name": "stdout"
        }
      ]
    },
    {
      "metadata": {
        "id": "q5gkGV49Jhw1",
        "colab_type": "code",
        "colab": {}
      },
      "cell_type": "code",
      "source": [
        "# confusion matrix\n",
        "# model weakness\n",
        "# threshold decisions\n",
        "# metrics vs thresholds\n",
        "# sarcasm identification!"
      ],
      "execution_count": 0,
      "outputs": []
    }
  ]
}